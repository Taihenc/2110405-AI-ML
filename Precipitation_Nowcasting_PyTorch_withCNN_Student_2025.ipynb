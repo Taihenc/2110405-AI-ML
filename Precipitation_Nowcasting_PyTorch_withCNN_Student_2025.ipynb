{
    "nbformat": 4,
    "nbformat_minor": 0,
    "cells": [
        {
            "cell_type": "markdown",
            "metadata": {
                "colab_type": "text",
                "id": "view-in-github"
            },
            "source": [
                "<a href=\"https://colab.research.google.com/github/Taihenc/2110405-AI-ML/blob/main/Precipitation_Nowcasting_PyTorch_withCNN_Student_2025.ipynb\" target=\"_parent\"><img src=\"https://colab.research.google.com/assets/colab-badge.svg\" alt=\"Open In Colab\"/></a>"
            ]
        },
        {
            "cell_type": "markdown",
            "metadata": {
                "id": "kjRBQ9voFMYx"
            },
            "source": [
                "# Precipitation Nowcasting using Neural Networks\n",
                "\n",
                "In this exercise, you are going to build a set of deep learning models on a real world task using PyTorch. PyTorch is an open source machine learning framework based on the Torch library, used for applications such as computer vision and natural language processing, primarily developed by Facebook's AI Research lab (FAIR).\n",
                "\n",
                "## Setting up to use the gpu  \n",
                "\n",
                "Before we start, we need to change the environment of Colab to use GPU. Do so by:\n",
                "\n",
                "Runtime -> Change runtime type -> Hardware accelerator -> GPU"
            ]
        },
        {
            "cell_type": "markdown",
            "metadata": {
                "id": "aelm29BaFKuc"
            },
            "source": [
                "## Deep Neural Networks with PyTorch ##\n",
                "\n",
                "To complete this exercise, you will need to build deep learning models for precipitation nowcasting. You will build a subset of the models shown below:\n",
                "- Fully Connected (Feedforward) Neural Network\n",
                "- A Feedforward network with dropout\n",
                "- A convolution neural network model\n",
                "\n",
                "and one more model of your choice to achieve the highest score possible.\n",
                "\n",
                "We provide the code for data cleaning and some starter code for PyTorch in this notebook but feel free to modify those parts to suit your needs. Feel free to use additional libraries (e.g. scikit-learn) as long as you have a model for each type mentioned above.\n",
                "\n",
                "This notebook assumes you have already installed PyTorch with python3 and had GPU enabled. If you run this exercise on Colab you are all set."
            ]
        },
        {
            "cell_type": "markdown",
            "metadata": {
                "id": "zt5qwVJXFKue"
            },
            "source": [
                "## Precipitation Nowcasting ##\n",
                "\n",
                "Precipitation nowcasting is the the task of predicting the amount of rainfall in a certain region given some kind of sensor data.  The term nowcasting refers to tasks that try to predict the current or near future conditions (within 6 hours).\n",
                "\n",
                "You will be given satellite images in 3 different bands covering a 5 by 5 region from different parts of Thailand. In other words, your input will be a 5x5x3 image. Your task is to predict the amount of rainfall in the center pixel. You will first do the prediction using just a simple fully-connected neural network that view each pixel as different input features.\n",
                "\n",
                "Since the your input is basically an image, we will then view the input as an image and apply CNN to do the prediction. Finally, we can also add a time component since weather prediction can benefit greatly using previous time frames. Each data point actually contain 5 time steps, so each input data point has a size of 5x5x5x3 (time x height x width x channel), and the output data has a size of 5 (time). You will use this time information when you work with RNNs.\n",
                "\n",
                "Finally, we would like to thank the Thai Meteorological Department for providing the data for this assignment."
            ]
        },
        {
            "cell_type": "code",
            "source": [
                "!nvidia-smi"
            ],
            "metadata": {
                "id": "XdU0yrBQOQpj",
                "colab": {
                    "base_uri": "https://localhost:8080/"
                },
                "executionInfo": {
                    "status": "ok",
                    "timestamp": 1743565227101,
                    "user_tz": -420,
                    "elapsed": 130,
                    "user": {
                        "displayName": "Ekapol Chuangsuwanich",
                        "userId": "11414096022925535834"
                    }
                },
                "outputId": "60e277d1-43de-4e33-8748-0920e1698ec6"
            },
            "execution_count": null,
            "outputs": [
                {
                    "output_type": "stream",
                    "name": "stdout",
                    "text": [
                        "Wed Apr  2 03:40:26 2025       \n",
                        "+-----------------------------------------------------------------------------------------+\n",
                        "| NVIDIA-SMI 550.54.15              Driver Version: 550.54.15      CUDA Version: 12.4     |\n",
                        "|-----------------------------------------+------------------------+----------------------+\n",
                        "| GPU  Name                 Persistence-M | Bus-Id          Disp.A | Volatile Uncorr. ECC |\n",
                        "| Fan  Temp   Perf          Pwr:Usage/Cap |           Memory-Usage | GPU-Util  Compute M. |\n",
                        "|                                         |                        |               MIG M. |\n",
                        "|=========================================+========================+======================|\n",
                        "|   0  Tesla T4                       Off |   00000000:00:04.0 Off |                    0 |\n",
                        "| N/A   67C    P8             11W /   70W |       0MiB /  15360MiB |      0%      Default |\n",
                        "|                                         |                        |                  N/A |\n",
                        "+-----------------------------------------+------------------------+----------------------+\n",
                        "                                                                                         \n",
                        "+-----------------------------------------------------------------------------------------+\n",
                        "| Processes:                                                                              |\n",
                        "|  GPU   GI   CI        PID   Type   Process name                              GPU Memory |\n",
                        "|        ID   ID                                                               Usage      |\n",
                        "|=========================================================================================|\n",
                        "|  No running processes found                                                             |\n",
                        "+-----------------------------------------------------------------------------------------+\n"
                    ]
                }
            ]
        },
        {
            "cell_type": "code",
            "metadata": {
                "id": "MpV236cQtYvt",
                "colab": {
                    "base_uri": "https://localhost:8080/"
                },
                "executionInfo": {
                    "status": "ok",
                    "timestamp": 1743565943037,
                    "user_tz": -420,
                    "elapsed": 3113,
                    "user": {
                        "displayName": "Ekapol Chuangsuwanich",
                        "userId": "11414096022925535834"
                    }
                },
                "outputId": "29661e31-29de-4fcf-b455-520a03800488"
            },
            "source": [
                "# For summarizing and visualizing models\n",
                "!pip install torchinfo"
            ],
            "execution_count": null,
            "outputs": [
                {
                    "output_type": "stream",
                    "name": "stdout",
                    "text": [
                        "Collecting torchinfo\n",
                        "  Downloading torchinfo-1.8.0-py3-none-any.whl.metadata (21 kB)\n",
                        "Downloading torchinfo-1.8.0-py3-none-any.whl (23 kB)\n",
                        "Installing collected packages: torchinfo\n",
                        "Successfully installed torchinfo-1.8.0\n"
                    ]
                }
            ]
        },
        {
            "cell_type": "markdown",
            "source": [
                "## Weights and Biases\n",
                "\n",
                "[Weights and Biases](https://docs.wandb.ai/company) (wandb) is an experiment tracking tool for machine learning. It can log and visualize experiments in real time. It supports many popular ML frameworks, and obviously PyTorch is one of them. In this notebook you will learn how to log general metrics like losses, parameter distributions, and gradient distribution with wandb.\n",
                "\n",
                "To install wandb, run the cell below"
            ],
            "metadata": {
                "id": "j5F3GHHeyc8k"
            }
        },
        {
            "cell_type": "code",
            "source": [
                "!pip install wandb"
            ],
            "metadata": {
                "id": "wcyfK7eoz0Xk",
                "colab": {
                    "base_uri": "https://localhost:8080/"
                },
                "executionInfo": {
                    "status": "ok",
                    "timestamp": 1743565673199,
                    "user_tz": -420,
                    "elapsed": 6162,
                    "user": {
                        "displayName": "Ekapol Chuangsuwanich",
                        "userId": "11414096022925535834"
                    }
                },
                "outputId": "d832e4fc-e38d-4162-fce7-df55e47cde02"
            },
            "execution_count": null,
            "outputs": [
                {
                    "output_type": "stream",
                    "name": "stdout",
                    "text": [
                        "Requirement already satisfied: wandb in /usr/local/lib/python3.11/dist-packages (0.19.8)\n",
                        "Requirement already satisfied: click!=8.0.0,>=7.1 in /usr/local/lib/python3.11/dist-packages (from wandb) (8.1.8)\n",
                        "Requirement already satisfied: docker-pycreds>=0.4.0 in /usr/local/lib/python3.11/dist-packages (from wandb) (0.4.0)\n",
                        "Requirement already satisfied: gitpython!=3.1.29,>=1.0.0 in /usr/local/lib/python3.11/dist-packages (from wandb) (3.1.44)\n",
                        "Requirement already satisfied: platformdirs in /usr/local/lib/python3.11/dist-packages (from wandb) (4.3.7)\n",
                        "Requirement already satisfied: protobuf!=4.21.0,!=5.28.0,<6,>=3.19.0 in /usr/local/lib/python3.11/dist-packages (from wandb) (5.29.4)\n",
                        "Requirement already satisfied: psutil>=5.0.0 in /usr/local/lib/python3.11/dist-packages (from wandb) (5.9.5)\n",
                        "Requirement already satisfied: pydantic<3,>=2.6 in /usr/local/lib/python3.11/dist-packages (from wandb) (2.11.0)\n",
                        "Requirement already satisfied: pyyaml in /usr/local/lib/python3.11/dist-packages (from wandb) (6.0.2)\n",
                        "Requirement already satisfied: requests<3,>=2.0.0 in /usr/local/lib/python3.11/dist-packages (from wandb) (2.32.3)\n",
                        "Requirement already satisfied: sentry-sdk>=2.0.0 in /usr/local/lib/python3.11/dist-packages (from wandb) (2.24.1)\n",
                        "Requirement already satisfied: setproctitle in /usr/local/lib/python3.11/dist-packages (from wandb) (1.3.5)\n",
                        "Requirement already satisfied: setuptools in /usr/local/lib/python3.11/dist-packages (from wandb) (75.2.0)\n",
                        "Requirement already satisfied: typing-extensions<5,>=4.4 in /usr/local/lib/python3.11/dist-packages (from wandb) (4.13.0)\n",
                        "Requirement already satisfied: six>=1.4.0 in /usr/local/lib/python3.11/dist-packages (from docker-pycreds>=0.4.0->wandb) (1.17.0)\n",
                        "Requirement already satisfied: gitdb<5,>=4.0.1 in /usr/local/lib/python3.11/dist-packages (from gitpython!=3.1.29,>=1.0.0->wandb) (4.0.12)\n",
                        "Requirement already satisfied: annotated-types>=0.6.0 in /usr/local/lib/python3.11/dist-packages (from pydantic<3,>=2.6->wandb) (0.7.0)\n",
                        "Requirement already satisfied: pydantic-core==2.33.0 in /usr/local/lib/python3.11/dist-packages (from pydantic<3,>=2.6->wandb) (2.33.0)\n",
                        "Requirement already satisfied: typing-inspection>=0.4.0 in /usr/local/lib/python3.11/dist-packages (from pydantic<3,>=2.6->wandb) (0.4.0)\n",
                        "Requirement already satisfied: charset-normalizer<4,>=2 in /usr/local/lib/python3.11/dist-packages (from requests<3,>=2.0.0->wandb) (3.4.1)\n",
                        "Requirement already satisfied: idna<4,>=2.5 in /usr/local/lib/python3.11/dist-packages (from requests<3,>=2.0.0->wandb) (3.10)\n",
                        "Requirement already satisfied: urllib3<3,>=1.21.1 in /usr/local/lib/python3.11/dist-packages (from requests<3,>=2.0.0->wandb) (2.3.0)\n",
                        "Requirement already satisfied: certifi>=2017.4.17 in /usr/local/lib/python3.11/dist-packages (from requests<3,>=2.0.0->wandb) (2025.1.31)\n",
                        "Requirement already satisfied: smmap<6,>=3.0.1 in /usr/local/lib/python3.11/dist-packages (from gitdb<5,>=4.0.1->gitpython!=3.1.29,>=1.0.0->wandb) (5.0.2)\n"
                    ]
                }
            ]
        },
        {
            "cell_type": "markdown",
            "source": [
                "## Setup\n",
                "\n",
                "1. Register [Wandb account](https://wandb.ai/login?signup=true) (and confirm your email)\n",
                "\n",
                "2. `wandb login` and copy paste the API key when prompt"
            ],
            "metadata": {
                "id": "sl8f3SBNzzDE"
            }
        },
        {
            "cell_type": "code",
            "source": [
                "!wandb login"
            ],
            "metadata": {
                "id": "UMIBnplmyjdH",
                "colab": {
                    "base_uri": "https://localhost:8080/"
                },
                "executionInfo": {
                    "status": "ok",
                    "timestamp": 1743565721641,
                    "user_tz": -420,
                    "elapsed": 46105,
                    "user": {
                        "displayName": "Ekapol Chuangsuwanich",
                        "userId": "11414096022925535834"
                    }
                },
                "outputId": "fb76b7b3-6fe0-4e43-93a6-30c70b5a15f8"
            },
            "execution_count": null,
            "outputs": [
                {
                    "output_type": "stream",
                    "name": "stdout",
                    "text": [
                        "\u001b[34m\u001b[1mwandb\u001b[0m: Logging into wandb.ai. (Learn how to deploy a W&B server locally: https://wandb.me/wandb-server)\n",
                        "\u001b[34m\u001b[1mwandb\u001b[0m: You can find your API key in your browser here: https://wandb.ai/authorize\n",
                        "\u001b[34m\u001b[1mwandb\u001b[0m: Paste an API key from your profile and hit enter, or press ctrl+c to quit: \n",
                        "\u001b[34m\u001b[1mwandb\u001b[0m: No netrc file found, creating one.\n",
                        "\u001b[34m\u001b[1mwandb\u001b[0m: Appending key for api.wandb.ai to your netrc file: /root/.netrc\n",
                        "\u001b[34m\u001b[1mwandb\u001b[0m: Currently logged in as: \u001b[33mekapolc\u001b[0m to \u001b[32mhttps://api.wandb.ai\u001b[0m. Use \u001b[1m`wandb login --relogin`\u001b[0m to force relogin\n"
                    ]
                }
            ]
        },
        {
            "cell_type": "code",
            "metadata": {
                "id": "BYYloecSFKuf",
                "colab": {
                    "base_uri": "https://localhost:8080/",
                    "height": 35
                },
                "executionInfo": {
                    "status": "ok",
                    "timestamp": 1743565753577,
                    "user_tz": -420,
                    "elapsed": 260,
                    "user": {
                        "displayName": "Ekapol Chuangsuwanich",
                        "userId": "11414096022925535834"
                    }
                },
                "outputId": "86620733-2e00-4446-a82a-e31ed5e7f862"
            },
            "source": [
                "import os\n",
                "import numpy as np\n",
                "import pickle\n",
                "import pandas as pd\n",
                "import matplotlib.pyplot as plt\n",
                "import urllib\n",
                "import wandb\n",
                "import torch\n",
                "import torch.nn as nn\n",
                "import torch.nn.functional as F\n",
                "import torchvision.transforms as transforms\n",
                "\n",
                "from sklearn import preprocessing\n",
                "from torch.utils.data import Dataset\n",
                "from torch.utils.data import DataLoader\n",
                "from tqdm.notebook import tqdm\n",
                "\n",
                "torch.__version__ # 2.6.0+cu124"
            ],
            "execution_count": null,
            "outputs": [
                {
                    "output_type": "execute_result",
                    "data": {
                        "text/plain": [
                            "'2.6.0+cu124'"
                        ],
                        "application/vnd.google.colaboratory.intrinsic+json": {
                            "type": "string"
                        }
                    },
                    "metadata": {},
                    "execution_count": 6
                }
            ]
        },
        {
            "cell_type": "markdown",
            "metadata": {
                "id": "nDQFOLhM5F2k"
            },
            "source": [
                "## Loading the data\n",
                "\n",
                "You can load the dataset from huggingface hub by running the following."
            ]
        },
        {
            "cell_type": "code",
            "source": [
                "!pip install huggingface_hub"
            ],
            "metadata": {
                "colab": {
                    "base_uri": "https://localhost:8080/"
                },
                "id": "lnCoL8ZBnHAW",
                "executionInfo": {
                    "status": "ok",
                    "timestamp": 1743565657881,
                    "user_tz": -420,
                    "elapsed": 3934,
                    "user": {
                        "displayName": "Ekapol Chuangsuwanich",
                        "userId": "11414096022925535834"
                    }
                },
                "outputId": "5fd755bd-c67b-4887-c61c-754087bbf77a"
            },
            "execution_count": null,
            "outputs": [
                {
                    "output_type": "stream",
                    "name": "stdout",
                    "text": [
                        "Requirement already satisfied: huggingface_hub in /usr/local/lib/python3.11/dist-packages (0.29.3)\n",
                        "Requirement already satisfied: filelock in /usr/local/lib/python3.11/dist-packages (from huggingface_hub) (3.18.0)\n",
                        "Requirement already satisfied: fsspec>=2023.5.0 in /usr/local/lib/python3.11/dist-packages (from huggingface_hub) (2025.3.0)\n",
                        "Requirement already satisfied: packaging>=20.9 in /usr/local/lib/python3.11/dist-packages (from huggingface_hub) (24.2)\n",
                        "Requirement already satisfied: pyyaml>=5.1 in /usr/local/lib/python3.11/dist-packages (from huggingface_hub) (6.0.2)\n",
                        "Requirement already satisfied: requests in /usr/local/lib/python3.11/dist-packages (from huggingface_hub) (2.32.3)\n",
                        "Requirement already satisfied: tqdm>=4.42.1 in /usr/local/lib/python3.11/dist-packages (from huggingface_hub) (4.67.1)\n",
                        "Requirement already satisfied: typing-extensions>=3.7.4.3 in /usr/local/lib/python3.11/dist-packages (from huggingface_hub) (4.13.0)\n",
                        "Requirement already satisfied: charset-normalizer<4,>=2 in /usr/local/lib/python3.11/dist-packages (from requests->huggingface_hub) (3.4.1)\n",
                        "Requirement already satisfied: idna<4,>=2.5 in /usr/local/lib/python3.11/dist-packages (from requests->huggingface_hub) (3.10)\n",
                        "Requirement already satisfied: urllib3<3,>=1.21.1 in /usr/local/lib/python3.11/dist-packages (from requests->huggingface_hub) (2.3.0)\n",
                        "Requirement already satisfied: certifi>=2017.4.17 in /usr/local/lib/python3.11/dist-packages (from requests->huggingface_hub) (2025.1.31)\n"
                    ]
                }
            ]
        },
        {
            "cell_type": "code",
            "metadata": {
                "id": "WYCGn6wkF4Y5",
                "colab": {
                    "base_uri": "https://localhost:8080/",
                    "height": 195,
                    "referenced_widgets": [
                        "fe3a326f23b7414cac2786ac5370e602",
                        "dbd11ebcc3e646c8a482c232333d23fa",
                        "21f218efb80e476393f79374e4d23c5c",
                        "9df5a2c0f15a40b9ad48118f97df8bb4",
                        "8e33ac3da97241b9aa5d239ddd88a66d",
                        "b7330baad94c4dde9c32f456791194b0",
                        "bf9bb1a535e64fa491c0210452366f95",
                        "23b67e5977ae446bb758e94ffc9b72c6",
                        "d9cb47af613f42b2bf56e6ef713cc4c5",
                        "3602798df3d041949f9deb2ea6396f09",
                        "ac788776e06f4791b331973eacec030d"
                    ]
                },
                "executionInfo": {
                    "status": "ok",
                    "timestamp": 1743565806669,
                    "user_tz": -420,
                    "elapsed": 5124,
                    "user": {
                        "displayName": "Ekapol Chuangsuwanich",
                        "userId": "11414096022925535834"
                    }
                },
                "outputId": "c210ff5f-2c60-46f9-852e-8ab854e00378"
            },
            "source": [
                "from huggingface_hub import hf_hub_download\n",
                "hf_hub_download(repo_id=\"ecitslos/HWnowcastingdata\", filename=\"nowcastingHWdataset.tar.gz\", repo_type=\"dataset\", local_dir=\".\")"
            ],
            "execution_count": null,
            "outputs": [
                {
                    "output_type": "stream",
                    "name": "stderr",
                    "text": [
                        "/usr/local/lib/python3.11/dist-packages/huggingface_hub/utils/_auth.py:94: UserWarning: \n",
                        "The secret `HF_TOKEN` does not exist in your Colab secrets.\n",
                        "To authenticate with the Hugging Face Hub, create a token in your settings tab (https://huggingface.co/settings/tokens), set it as secret in your Google Colab and restart your session.\n",
                        "You will be able to reuse this secret in all of your notebooks.\n",
                        "Please note that authentication is recommended but still optional to access public models or datasets.\n",
                        "  warnings.warn(\n"
                    ]
                },
                {
                    "output_type": "display_data",
                    "data": {
                        "text/plain": [
                            "nowcastingHWdataset.tar.gz:   0%|          | 0.00/272M [00:00<?, ?B/s]"
                        ],
                        "application/vnd.jupyter.widget-view+json": {
                            "version_major": 2,
                            "version_minor": 0,
                            "model_id": "fe3a326f23b7414cac2786ac5370e602"
                        }
                    },
                    "metadata": {}
                },
                {
                    "output_type": "execute_result",
                    "data": {
                        "text/plain": [
                            "'nowcastingHWdataset.tar.gz'"
                        ],
                        "application/vnd.google.colaboratory.intrinsic+json": {
                            "type": "string"
                        }
                    },
                    "metadata": {},
                    "execution_count": 8
                }
            ]
        },
        {
            "cell_type": "code",
            "metadata": {
                "id": "ZwSDsVaNGbKa",
                "colab": {
                    "base_uri": "https://localhost:8080/"
                },
                "executionInfo": {
                    "status": "ok",
                    "timestamp": 1743565832315,
                    "user_tz": -420,
                    "elapsed": 7951,
                    "user": {
                        "displayName": "Ekapol Chuangsuwanich",
                        "userId": "11414096022925535834"
                    }
                },
                "outputId": "1ed2bf92-0604-43f9-8c3b-bb62c442347a"
            },
            "source": [
                "!tar -xvf './nowcastingHWdataset.tar.gz'"
            ],
            "execution_count": null,
            "outputs": [
                {
                    "output_type": "stream",
                    "name": "stdout",
                    "text": [
                        "dataset/features-m10.pk\n",
                        "dataset/features-m6.pk\n",
                        "dataset/features-m7.pk\n",
                        "dataset/features-m8.pk\n",
                        "dataset/features-m9.pk\n",
                        "dataset/labels-m10.pk\n",
                        "dataset/labels-m6.pk\n",
                        "dataset/labels-m7.pk\n",
                        "dataset/labels-m8.pk\n",
                        "dataset/labels-m9.pk\n"
                    ]
                }
            ]
        },
        {
            "cell_type": "markdown",
            "metadata": {
                "id": "syY5DXvFFKuj"
            },
            "source": [
                "# Data Explanation #\n",
                "\n",
                "The data is an hourly measurement of water vapor in the atmosphere, and two infrared measurements of cloud imagery on a latitude-longitude coordinate. Each measurement is illustrated below as an image. These three features are included as different channels in your input data.\n",
                "\n",
                "<img src=\"https://raw.githubusercontent.com/burin-n/pattern-recognition/master/HW4/images/wvapor.png\" width=\"200\"> <img src=\"https://raw.githubusercontent.com/burin-n/pattern-recognition/master/HW4/images/cloud1.png\" width=\"200\"> <img src=\"https://raw.githubusercontent.com/burin-n/pattern-recognition/master/HW4/images/cloud2.png\" width=\"200\">\n",
                "\n",
                "We also provide the hourly precipitation (rainfall) records in the month of June, July, August, September, and October from weather stations spreaded around the country. A 5x5 grid around each weather station at a particular time will be paired with the precipitation recorded at the corresponding station as input and output data. Finally, five adjacent timesteps are stacked into one sequence.\n",
                "\n",
                "The month of June-August are provided as training data, while the months of September and October are used as validation and test sets, respectively.\n"
            ]
        },
        {
            "cell_type": "markdown",
            "metadata": {
                "id": "Z6ieaQpHFKuk"
            },
            "source": [
                "# Reading data"
            ]
        },
        {
            "cell_type": "code",
            "metadata": {
                "id": "pg0gCg-DFKul"
            },
            "source": [
                "def read_data(months, data_dir='dataset'):\n",
                "    features = np.array([], dtype=np.float32).reshape(0,5,5,5,3)\n",
                "    labels = np.array([], dtype=np.float32).reshape(0,5)\n",
                "    for m in months:\n",
                "        filename = 'features-m{}.pk'.format(m)\n",
                "        with open(os.path.join(data_dir,filename), 'rb') as file:\n",
                "            features_temp = pickle.load(file)\n",
                "        features = np.concatenate((features, features_temp), axis=0)\n",
                "\n",
                "        filename = 'labels-m{}.pk'.format(m)\n",
                "        with open(os.path.join(data_dir,filename), 'rb') as file:\n",
                "            labels_temp = pickle.load(file)\n",
                "        labels = np.concatenate((labels, labels_temp), axis=0)\n",
                "\n",
                "    return features, labels"
            ],
            "execution_count": null,
            "outputs": []
        },
        {
            "cell_type": "code",
            "metadata": {
                "id": "O3zFs-CXFKuo",
                "colab": {
                    "base_uri": "https://localhost:8080/"
                },
                "executionInfo": {
                    "status": "ok",
                    "timestamp": 1743565842556,
                    "user_tz": -420,
                    "elapsed": 794,
                    "user": {
                        "displayName": "Ekapol Chuangsuwanich",
                        "userId": "11414096022925535834"
                    }
                },
                "outputId": "d817dba3-4181-4ff0-a3df-dc7a66b636d1"
            },
            "source": [
                "# use data from month 6,7,8 as training set\n",
                "x_train, y_train = read_data(months=[6,7,8])\n",
                "\n",
                "# use data from month 9 as validation set\n",
                "x_val, y_val = read_data(months=[9])\n",
                "\n",
                "# use data from month 10 as test set\n",
                "x_test, y_test = read_data(months=[10])\n",
                "\n",
                "print('x_train shape:',x_train.shape)\n",
                "print('y_train shape:', y_train.shape, '\\n')\n",
                "print('x_val shape:',x_val.shape)\n",
                "print('y_val shape:', y_val.shape, '\\n')\n",
                "print('x_test shape:',x_test.shape)\n",
                "print('y_test shape:', y_test.shape)"
            ],
            "execution_count": null,
            "outputs": [
                {
                    "output_type": "stream",
                    "name": "stdout",
                    "text": [
                        "x_train shape: (229548, 5, 5, 5, 3)\n",
                        "y_train shape: (229548, 5) \n",
                        "\n",
                        "x_val shape: (92839, 5, 5, 5, 3)\n",
                        "y_val shape: (92839, 5) \n",
                        "\n",
                        "x_test shape: (111715, 5, 5, 5, 3)\n",
                        "y_test shape: (111715, 5)\n"
                    ]
                }
            ]
        },
        {
            "cell_type": "markdown",
            "metadata": {
                "id": "pW6GD-8-FKur"
            },
            "source": [
                "**features**\n",
                "- dim 0: number of entries\n",
                "- dim 1: number of time-steps in ascending order\n",
                "- dim 2,3: a 5x5 grid around rain-measued station\n",
                "- dim 4: water vapor and two cloud imagenaries\n",
                "\n",
                "**labels**\n",
                "- dim 0: number of entries\n",
                "- dim 1: number of precipitation for each time-step"
            ]
        },
        {
            "cell_type": "markdown",
            "metadata": {
                "id": "FnNVxatKFKuy"
            },
            "source": [
                "# Three-Layer Feedforward Neural Networks"
            ]
        },
        {
            "cell_type": "code",
            "metadata": {
                "id": "OGB0Jhk3FKuz",
                "colab": {
                    "base_uri": "https://localhost:8080/"
                },
                "executionInfo": {
                    "status": "ok",
                    "timestamp": 1743565845816,
                    "user_tz": -420,
                    "elapsed": 13,
                    "user": {
                        "displayName": "Ekapol Chuangsuwanich",
                        "userId": "11414096022925535834"
                    }
                },
                "outputId": "b71774bc-c3b1-4db4-b403-84c552514c59"
            },
            "source": [
                "# Dataset need to be reshaped to make it suitable for feedforword model\n",
                "def preprocess_for_ff(x_train, y_train, x_val, y_val):\n",
                "    x_train_ff = x_train.reshape((-1, 5*5*3))\n",
                "    y_train_ff = y_train.reshape((-1, 1))\n",
                "    x_val_ff = x_val.reshape((-1, 5*5*3))\n",
                "    y_val_ff = y_val.reshape((-1, 1))\n",
                "    x_test_ff = x_test.reshape((-1, 5*5*3))\n",
                "    y_test_ff = y_test.reshape((-1, 1))\n",
                "\n",
                "    return x_train_ff, y_train_ff, x_val_ff, y_val_ff, x_test_ff, y_test_ff\n",
                "\n",
                "x_train_ff, y_train_ff, x_val_ff, y_val_ff, x_test_ff, y_test_ff = preprocess_for_ff(x_train, y_train, x_val, y_val)\n",
                "print(x_train_ff.shape, y_train_ff.shape)\n",
                "print(x_val_ff.shape, y_val_ff.shape)\n",
                "print(x_test_ff.shape, y_test_ff.shape)"
            ],
            "execution_count": null,
            "outputs": [
                {
                    "output_type": "stream",
                    "name": "stdout",
                    "text": [
                        "(1147740, 75) (1147740, 1)\n",
                        "(464195, 75) (464195, 1)\n",
                        "(558575, 75) (558575, 1)\n"
                    ]
                }
            ]
        },
        {
            "cell_type": "markdown",
            "metadata": {
                "id": "p77LrAbilkK7"
            },
            "source": [
                "### TODO#1\n",
                "\n",
                "Explain each line of code in the function preprocess_for_ff()\n",
                "\n",
                "**Ans:**"
            ]
        },
        {
            "cell_type": "markdown",
            "source": [
                "## Dataset\n",
                "\n",
                "To prepare a DataLoader in order to feed data into the model, we need to create a `torch.utils.data.Dataset` object first. (Learn more about it [here](https://pytorch.org/docs/stable/data.html#map-style-datasets))\n",
                "\n",
                "Dataset is a simple class that the DataLoader will get data from, most of its functionality comes from `__getitem__(self, index)` method, which will return a single data point (both input and label). In real world scenarios the method can do some other stuffs such as\n",
                "\n",
                "1. Load images\n",
                "\n",
                "If your input (x) are images. Oftentimes you won't be able to fit all the training images into your RAM. Thus, you should pass an array (or list) of image path into the dataloader, and the `__getitem__` will be the one who dynamically loads the actual image from the harddisk for you.\n",
                "\n",
                "2. Data Normalization\n",
                "\n",
                "Data normalization helps improve stability of training. Unnormalized data can cause gradients to explode. There are many variants of normalization, but in this notebook we will use either minmax or z-score (std) normalization. Read [this](https://developers.google.com/machine-learning/data-prep/transform/normalization) (or google) if you wish to learn more about data normalization.\n",
                "\n",
                "3. Data Augmentation\n",
                "\n",
                "In computer vision, you might want to apply small changes to the images you use in training (adjust brightness, contrast, rotation) so that the model will generalize better on unseen data. There are two kinds of augmentation: static and dynamic. Static augmentation will augment images and save to disk as a new dataset. On the other hand, rather than applying the change initially and use the same change on each image every epoch, dynamic augmentation will augment each data differently for each epoch. Note that augmentation is usually done on the CPU and you might be bounded by the CPU instead. PyTorch has a dedicated [documentation about data augmentation](https://pytorch.org/vision/master/transforms.html) if you want to know more."
            ],
            "metadata": {
                "id": "1dK4x_Td1WE0"
            }
        },
        {
            "cell_type": "code",
            "source": [
                "class RainfallDatasetFF(Dataset):\n",
                "    def __init__(self, x, y, normalizer):\n",
                "        self.x = x.astype(np.float32)\n",
                "        self.y = y.astype(np.float32)\n",
                "        self.normalizer = normalizer\n",
                "        print(self.x.shape)\n",
                "        print(self.y.shape)\n",
                "\n",
                "    def __getitem__(self, index):\n",
                "        x = self.x[index] # Retrieve data\n",
                "        x = self.normalizer.transform(x.reshape(1, -1)) # Normalize\n",
                "        y = self.y[index]\n",
                "        return x, y\n",
                "\n",
                "    def __len__(self):\n",
                "        return self.x.shape[0]"
            ],
            "metadata": {
                "id": "TLgje5aC1Klu"
            },
            "execution_count": null,
            "outputs": []
        },
        {
            "cell_type": "code",
            "metadata": {
                "id": "DCKaJISBFKus"
            },
            "source": [
                "def normalizer_std(X):\n",
                "    scaler = preprocessing.StandardScaler().fit(X)\n",
                "    return scaler\n",
                "\n",
                "def normalizer_minmax(X):\n",
                "    scaler = preprocessing.MinMaxScaler().fit(X)\n",
                "    return scaler"
            ],
            "execution_count": null,
            "outputs": []
        },
        {
            "cell_type": "code",
            "source": [
                "normalizer = normalizer_std(x_train_ff) # We will normalize everything based on x_train\n",
                "\n",
                "train_dataset = RainfallDatasetFF(x_train_ff, y_train_ff, normalizer)\n",
                "val_dataset = RainfallDatasetFF(x_val_ff, y_val_ff, normalizer)\n",
                "test_dataset = RainfallDatasetFF(x_test_ff, y_test_ff, normalizer)"
            ],
            "metadata": {
                "id": "4abkl13k3TVH",
                "colab": {
                    "base_uri": "https://localhost:8080/"
                },
                "executionInfo": {
                    "status": "ok",
                    "timestamp": 1743565864386,
                    "user_tz": -420,
                    "elapsed": 978,
                    "user": {
                        "displayName": "Ekapol Chuangsuwanich",
                        "userId": "11414096022925535834"
                    }
                },
                "outputId": "b8c38678-b35f-4c40-e8b9-2afcef364d76"
            },
            "execution_count": null,
            "outputs": [
                {
                    "output_type": "stream",
                    "name": "stdout",
                    "text": [
                        "(1147740, 75)\n",
                        "(1147740, 1)\n",
                        "(464195, 75)\n",
                        "(464195, 1)\n",
                        "(558575, 75)\n",
                        "(558575, 1)\n"
                    ]
                }
            ]
        },
        {
            "cell_type": "markdown",
            "source": [
                "## DataLoader\n",
                "\n",
                "DataLoader feeds data from our dataset into the model. We can freely customize batch size, data shuffle for each data split, and much more with DataLoader class. If you're curious about what can you do with PyTorch's DataLoader, you can check [this documentation](https://pytorch.org/docs/stable/data.html)"
            ],
            "metadata": {
                "id": "eewgRWXf-mJ5"
            }
        },
        {
            "cell_type": "code",
            "source": [
                "train_loader = DataLoader(train_dataset, batch_size=1024, shuffle=True, pin_memory=True)\n",
                "val_loader = DataLoader(val_dataset, batch_size=1024, shuffle=False, pin_memory=True)\n",
                "test_loader = DataLoader(test_dataset, batch_size=1024, shuffle=False, pin_memory=True)"
            ],
            "metadata": {
                "id": "S-eNOnvf-ne3"
            },
            "execution_count": null,
            "outputs": []
        },
        {
            "cell_type": "markdown",
            "source": [
                "## Loss Function\n",
                "\n",
                "PyTorch has many loss functions readily available for use. We can also write our own custom loss function as well. But for now, we will use [PyTorch's built-in mean squared error loss ](https://pytorch.org/docs/stable/generated/torch.nn.MSELoss.html)"
            ],
            "metadata": {
                "id": "2ETMKmwesM1G"
            }
        },
        {
            "cell_type": "code",
            "source": [
                "loss_fn = nn.MSELoss()"
            ],
            "metadata": {
                "id": "dE0wOzDpsOeM"
            },
            "execution_count": null,
            "outputs": []
        },
        {
            "cell_type": "markdown",
            "source": [
                "### TODO#2\n",
                "\n",
                "Why is the loss MSE?\n",
                "\n",
                "**Ans:**"
            ],
            "metadata": {
                "id": "R2XXPjgWoruT"
            }
        },
        {
            "cell_type": "markdown",
            "source": [
                "## Device\n",
                "\n",
                "Unlike Tensorflow/Keras, PyTorch allows user to freely put any Tensor or objects (loss functions, models, optimizers, etc.) in CPU or GPU. By default, all objects created will be in CPU. In order to use GPU we will have to supply `device = torch.device(\"cuda\")` into the objects to move it to GPU. You will usually see the syntax like `object.to(device)` for moving CPU object to GPU, or `o = Object(..., device=device)` to create the object in the GPU."
            ],
            "metadata": {
                "id": "FAJdDTn_Kj2V"
            }
        },
        {
            "cell_type": "code",
            "source": [
                "device = torch.device(\"cuda\" if torch.cuda.is_available() else \"cpu\")"
            ],
            "metadata": {
                "id": "9nHbeRbYKk3e"
            },
            "execution_count": null,
            "outputs": []
        },
        {
            "cell_type": "markdown",
            "source": [
                "## Model\n",
                "\n",
                "Below, the code for creating a 3-layers fully connected neural network in PyTorch is provided. Run the code and make sure you understand what you are doing. Then, report the results."
            ],
            "metadata": {
                "id": "_qNgeii7-jIS"
            }
        },
        {
            "cell_type": "code",
            "metadata": {
                "id": "ddS--sUaFKu3"
            },
            "source": [
                "class FeedForwardNN(nn.Module):\n",
                "    def __init__(self, hidden_size=200):\n",
                "        super(FeedForwardNN, self).__init__()\n",
                "        self.ff1 = nn.Linear(75, hidden_size)\n",
                "        self.ff2 = nn.Linear(hidden_size, hidden_size)\n",
                "        self.ff3 = nn.Linear(hidden_size, hidden_size)\n",
                "        self.out = nn.Linear(hidden_size, 1)\n",
                "\n",
                "    def forward(self, x):\n",
                "        hd1 = F.relu(self.ff1(x))\n",
                "        hd2 = F.relu(self.ff2(hd1))\n",
                "        y = F.relu(self.ff3(hd2))\n",
                "        y = self.out(y)\n",
                "        return y.reshape(-1, 1)"
            ],
            "execution_count": null,
            "outputs": []
        },
        {
            "cell_type": "markdown",
            "metadata": {
                "id": "oz8m8ijkmUdU"
            },
            "source": [
                "### TODO#3\n",
                "\n",
                "What is the activation function in the final dense layer? and why? Do you think there is a better activation function for the final layer?\n",
                "\n",
                "**Ans:**"
            ]
        },
        {
            "cell_type": "code",
            "source": [
                "# Hyperparameters and other configs\n",
                "config = {\n",
                "    'architecture': 'feedforward',\n",
                "    'lr': 0.01,\n",
                "    'hidden_size': 200,\n",
                "    'scheduler_factor': 0.2,\n",
                "    'scheduler_patience': 2,\n",
                "    'scheduler_min_lr': 1e-4,\n",
                "    'epochs': 10\n",
                "}\n",
                "\n",
                "# Model\n",
                "model_ff = FeedForwardNN(hidden_size=config['hidden_size'])\n",
                "model_ff = model_ff.to(device)\n",
                "optimizer = torch.optim.Adam(model_ff.parameters(), lr=config['lr'])\n",
                "scheduler = torch.optim.lr_scheduler.ReduceLROnPlateau(\n",
                "    optimizer,\n",
                "    'min',\n",
                "    factor=config['scheduler_factor'],\n",
                "    patience=config['scheduler_patience'],\n",
                "    min_lr=config['scheduler_min_lr']\n",
                ")"
            ],
            "metadata": {
                "id": "z1RKOxNBhyb0"
            },
            "execution_count": null,
            "outputs": []
        },
        {
            "cell_type": "code",
            "source": [
                "from torchinfo import summary\n",
                "summary(model_ff, input_size=(1024, 75))"
            ],
            "metadata": {
                "id": "4S1EzAAioGtc",
                "colab": {
                    "base_uri": "https://localhost:8080/"
                },
                "executionInfo": {
                    "status": "ok",
                    "timestamp": 1743565951397,
                    "user_tz": -420,
                    "elapsed": 415,
                    "user": {
                        "displayName": "Ekapol Chuangsuwanich",
                        "userId": "11414096022925535834"
                    }
                },
                "outputId": "3a51b1e1-9fe9-41ae-c234-6d8653c5bcf2"
            },
            "execution_count": null,
            "outputs": [
                {
                    "output_type": "execute_result",
                    "data": {
                        "text/plain": [
                            "==========================================================================================\n",
                            "Layer (type:depth-idx)                   Output Shape              Param #\n",
                            "==========================================================================================\n",
                            "FeedForwardNN                            [1024, 1]                 --\n",
                            "├─Linear: 1-1                            [1024, 200]               15,200\n",
                            "├─Linear: 1-2                            [1024, 200]               40,200\n",
                            "├─Linear: 1-3                            [1024, 200]               40,200\n",
                            "├─Linear: 1-4                            [1024, 1]                 201\n",
                            "==========================================================================================\n",
                            "Total params: 95,801\n",
                            "Trainable params: 95,801\n",
                            "Non-trainable params: 0\n",
                            "Total mult-adds (Units.MEGABYTES): 98.10\n",
                            "==========================================================================================\n",
                            "Input size (MB): 0.31\n",
                            "Forward/backward pass size (MB): 4.92\n",
                            "Params size (MB): 0.38\n",
                            "Estimated Total Size (MB): 5.61\n",
                            "=========================================================================================="
                        ]
                    },
                    "metadata": {},
                    "execution_count": 24
                }
            ]
        },
        {
            "cell_type": "markdown",
            "metadata": {
                "id": "EfnyZsPlmJW7"
            },
            "source": [
                "### TODO#4\n",
                "\n",
                "Explain why the first linear layer has number of parameters = 15200\n",
                "\n",
                "**Ans:**"
            ]
        },
        {
            "cell_type": "markdown",
            "source": [
                "# Training"
            ],
            "metadata": {
                "id": "WLyflo2MxrRW"
            }
        },
        {
            "cell_type": "code",
            "source": [
                "train_losses = []\n",
                "val_losses = []\n",
                "learning_rates = []\n",
                "\n",
                "# Start wandb run\n",
                "wandb.init(\n",
                "    project='precipitation-nowcasting-2025',\n",
                "    config=config,\n",
                ")\n",
                "\n",
                "# Log parameters and gradients\n",
                "wandb.watch(model_ff, log='all')\n",
                "\n",
                "for epoch in range(config['epochs']):  # loop over the dataset multiple times\n",
                "\n",
                "    # Training\n",
                "    train_loss = []\n",
                "    current_lr = optimizer.param_groups[0]['lr']\n",
                "    learning_rates.append(current_lr)\n",
                "\n",
                "    # Flag model as training. Some layers behave differently in training and\n",
                "    # inference modes, such as dropout, BN, etc.\n",
                "    model_ff.train()\n",
                "\n",
                "    print(f\"Training epoch {epoch+1}...\")\n",
                "    print(f\"Current LR: {current_lr}\")\n",
                "\n",
                "    for i, (inputs, y_true) in enumerate(tqdm(train_loader)):\n",
                "        # Transfer data from cpu to gpu\n",
                "        inputs = inputs.to(device)\n",
                "        y_true = y_true.to(device)\n",
                "\n",
                "        # Reset the gradient\n",
                "        optimizer.zero_grad()\n",
                "\n",
                "        # Predict\n",
                "        y_pred = model_ff(inputs)\n",
                "\n",
                "        # Calculate loss\n",
                "        loss = loss_fn(y_pred, y_true)\n",
                "\n",
                "        # Compute gradient\n",
                "        loss.backward()\n",
                "\n",
                "        # Update parameters\n",
                "        optimizer.step()\n",
                "\n",
                "        # Log stuff\n",
                "        train_loss.append(loss)\n",
                "\n",
                "    avg_train_loss = torch.stack(train_loss).mean().item()\n",
                "    train_losses.append(avg_train_loss)\n",
                "\n",
                "    print(f\"Epoch {epoch+1} train loss: {avg_train_loss:.4f}\")\n",
                "\n",
                "    # Validation\n",
                "    model_ff.eval()\n",
                "    with torch.no_grad(): # No gradient is required during validation\n",
                "        print(f\"Validating epoch {epoch+1}\")\n",
                "        val_loss = []\n",
                "        for i, (inputs, y_true) in enumerate(tqdm(val_loader)):\n",
                "            # Transfer data from cpu to gpu\n",
                "            inputs = inputs.to(device)\n",
                "            y_true = y_true.to(device)\n",
                "\n",
                "            # Predict\n",
                "            y_pred = model_ff(inputs)\n",
                "\n",
                "            # Calculate loss\n",
                "            loss = loss_fn(y_pred, y_true)\n",
                "\n",
                "            # Log stuff\n",
                "            val_loss.append(loss)\n",
                "\n",
                "        avg_val_loss = torch.stack(val_loss).mean().item()\n",
                "        val_losses.append(avg_val_loss)\n",
                "        print(f\"Epoch {epoch+1} val loss: {avg_val_loss:.4f}\")\n",
                "\n",
                "        # LR adjustment with scheduler\n",
                "        scheduler.step(avg_val_loss)\n",
                "\n",
                "        # Save checkpoint if val_loss is the best we got\n",
                "        best_val_loss = np.inf if epoch == 0 else min(val_losses[:-1])\n",
                "        if avg_val_loss < best_val_loss:\n",
                "            # Save whatever you want\n",
                "            state = {\n",
                "                'epoch': epoch,\n",
                "                'model': model_ff.state_dict(),\n",
                "                'optimizer': optimizer.state_dict(),\n",
                "                'scheduler': scheduler.state_dict(),\n",
                "                'train_loss': avg_train_loss,\n",
                "                'val_loss': avg_val_loss,\n",
                "                'best_val_loss': best_val_loss,\n",
                "            }\n",
                "\n",
                "            print(f\"Saving new best model..\")\n",
                "            torch.save(state, 'model_ff.pth.tar')\n",
                "\n",
                "    wandb.log({\n",
                "        'train_loss': avg_train_loss,\n",
                "        'val_loss': avg_val_loss,\n",
                "        'lr': current_lr,\n",
                "    })\n",
                "\n",
                "wandb.finish()\n",
                "print('Finished Training')"
            ],
            "metadata": {
                "id": "-JqOdbMlxsKl",
                "colab": {
                    "base_uri": "https://localhost:8080/",
                    "height": 1000,
                    "referenced_widgets": [
                        "1780368bba034631940cb46b085f8383",
                        "06320baf89b84a80815d21d31c42e9b9",
                        "738872083d63457d9369a37c0a6b8fb2",
                        "6473b4c6ebc641868e34aa2232406582",
                        "cb3a67640f3e49829644ef81543ff9fe",
                        "638dec6767e54f52852c287bc489031f",
                        "eebb9651d64944f0841af2b3bb6587d8",
                        "6b58e5a427fc49c3afc9ca089b0aa028",
                        "294c7ddf978e4c3cacea5c15f8def797",
                        "125d50765c68489c85646714215bd328",
                        "666d5b7e868048169c541c2054d909e9",
                        "ebd75e48b1524724a7b35a25264158b5",
                        "ffc5f62553044e448cbc6255f244b43a",
                        "4818c19057d542da8a95c34e7b8f393b",
                        "ac058efa794b4172be7823a27d37b2d7",
                        "9bb4fa6364e545ee9f18524a1bdc24fa",
                        "2976505fc181486ba6bf851089bfe329",
                        "49e640135e2a45e4925545efde5925a5",
                        "1765097b5a0641068eafed63d5dda4b0",
                        "eefe34a6facf41bcb0b77b730ce23f8c",
                        "6884639c1f7148a6b63a87df9f68ed0b",
                        "bb671221ced74e2e9350e2b1da01f03e",
                        "77540ae861fc4297841da9b3e0e6b14d",
                        "9ae115d080914a63bce05256423ce8a7",
                        "f04862a8f7fa4005a4f394d2580ede4f",
                        "21c61614f09c4592b8dba021751cf3f9",
                        "522053679713493abff9fffd24a8b23f",
                        "05000cf65e904c7cb42753ec3a7bb29d",
                        "44ee5b9937bf40ff88502fa2c71371ec",
                        "109668385f6249d590fe814584ed7c3a",
                        "37d51d41614e449087010b13c7d00de5",
                        "7c92fa04699742148138298374769be1",
                        "6f2eb0e3ca8742c8bfa69b2442b40f32",
                        "cd25b104546b4b0b8c40f43f74ef4c5d",
                        "71668a8fcbc94c2e9b11f256f3bb8006",
                        "d7d5415ab4394fcb8e8077dd4505772b",
                        "ab0cdb2e83924014b7a105830fe69f00",
                        "fac220377ad64ec1b3eaf2ddc0ed9a5e",
                        "c2d3544f24d14214bfe779905531991b",
                        "cf2bbe635ea047149532028a20e1541e",
                        "39c487daf6824902a9c69b5c465302e3",
                        "a0088682bb154f3289907b356c529c3f",
                        "d526483f06f04c21920ccd4bf4567af3",
                        "23af3f7bea474cd09cfc03e330717aab",
                        "256b8ef3799645e3a043e49205947c0c",
                        "52ece2d1c32d4a229b2c0f1912f018f4",
                        "725ec0108e4449b3ae6ffc5625280aff",
                        "05f230f476e842c8a958043772f8e0a4",
                        "82cd0a163df84e58aa82ae58a4fccfea",
                        "6d0e128554b8411fb1c401444c024ef3",
                        "257afad4b1c0479eb002e1fe26d8b2f9",
                        "ea1c56a39a7c483cb44a63f989712c91",
                        "4bfecee8bb1345258336723f9b12929e",
                        "0644089c526548fdb815301dd2753dcb",
                        "1c1ba9091f4f4c959c41dff1772d56fe",
                        "f2c1aec485d941d2945b90b68a51175c",
                        "0260b02dc5b24679949ce576b56c1169",
                        "135d5c1821714e4093944eef317c230c",
                        "dd1c21277cb646c6bf263fd1445468f9",
                        "b405522302814a97abf303f4fb2be7a1",
                        "55b493bf7ab14611bf68608f32677475",
                        "6d773dc5c7c74cf1af35f5c36aa7aa9a",
                        "42d06d41dcde4a02ae2ae90d203e005b",
                        "b0993cfb50604a5583b0093b8554a87c",
                        "2c5f7ae2bf224333952a88b1cc78523d",
                        "8e1f07cc5f034bf6904842b156d02a70",
                        "823ddb1549964a309d40be2f725628d3",
                        "d954f158af544945afaca18711781541",
                        "fe668ac8b07340b68f39740d35dce18c",
                        "371bccc2c7f64a80a387de7a2ce78a30",
                        "c7a221a99e6d4f00bf96373e7463a0f0",
                        "54841ecfc3dc463cbfa3c5f8de211321",
                        "522f223373924a7b94313a7cfc597667",
                        "534acb28be324318b5831bf4af024705",
                        "ab94b7139f9b4350a650e3f733649278",
                        "3bf51630eda9430fa43f71dd2b03a720",
                        "f755f4e2e1da425c8f2ca5e6003ee113",
                        "45b3c447270046d3a308bfdea30d2119",
                        "127db51918a944d6a90ad5a8db70a3f8",
                        "93e0623278bc4c9bac41e4a2a9813639",
                        "5b1abf2e0a404493ae11bbd2f8ff6223",
                        "dfc8bb0906004450af14d94888b4263f",
                        "96876b74ff654a4bae2611686c13335a",
                        "c9b0ef75eed0499b988126daea4cc083",
                        "35697a654b624c0e90632bda6f8548be",
                        "aabb5f278719497c8c7b9cec6f83aaf9",
                        "1048d7de0b6a4eb38309cee6971637f8",
                        "6f48bedd3a5c40918929de01d151688d",
                        "791de5a8352142d98d66c34a9f2bba83",
                        "d2ad8208692f46a6be41cf528846cde5",
                        "99eed91bf2b54bbea517e7461f710901",
                        "915d910878bb4c8d9eea94936c58506f",
                        "da198c16199642ce8fbd18afd42a5130",
                        "173b04fa947e4dd9b95e6092eda1cc06",
                        "692668b321d84d2ea710bb60bcec3244",
                        "5069eae3820f4afbbd7ed2e1192db982",
                        "825ef4ee83ac4cdea633df72ad1aa2e7",
                        "d766b726bfce4cbd9c8837f63d96d8ad",
                        "f9bfc5f17a2042fbbcd30feab47b6255",
                        "3e05174052584bbf8699c6306c443da9",
                        "26321775c1c242e4a2af232687770e46",
                        "25d91f4a189e450d9a4ecd8064552d1f",
                        "04b399ec4f5c4c2b9de29f5c830a3dee",
                        "5cc5b62908b5403a8900620898662ef9",
                        "d3e9ae725a374d33b50e97cc0e3dd41e",
                        "201088f4052447dfb747f02df3d2c9ec",
                        "4e1ed6a92cc74252b9e093aa644f9193",
                        "8f9d2d9f08e3490982ee3f2e5e87aa17",
                        "2d9929a62ecb44afa3c401d5ffb92db1",
                        "a9bd7918347444b3a16de39ffc2ffb47",
                        "4f92ee60a43f45cbb64aae950378fc35",
                        "6e3fe10605e74ca090389e9c2c5d0071",
                        "722f6f4dacdf42ce81c3eab54132cbda",
                        "d8684d198f2447aca96a35d79ea8980e",
                        "20f2022c01dd4c8b941029e9acccc444",
                        "8145098b885e4f3088a902b6155aa079",
                        "8c410815e3c94cb9aef027efcd12c271",
                        "aa3190a7410940ac817faee0286f17b5",
                        "7762fb472b164b039deded290ddd027b",
                        "b27930c842c24e5589cc678cd0346898",
                        "11d7d7b228f143d0bfe9d490f6b07cdd",
                        "a45e756b60bb48cf8ce638aab55571da",
                        "4f32e0c8871f4e4b8bbac0649c4c82f0",
                        "47955847d4314bf3a2e4a71c65caba7e",
                        "3fa40875daf54d9a8bbf8533fe594ab9",
                        "e5f89452aba447bda1df81befaa3439d",
                        "d6c2dfb925f04cf8b49e6d126ce00c80",
                        "0c38a43454c34dcc9e6fdc4e4442309f",
                        "f7830e272b344ef1b7c9ce0fb1e90e08",
                        "13b6d282519848439709b5870892dc54",
                        "ea568881bf5e48b6a048898ce9063335",
                        "30cc73cd35be41afb1c02b088edf81a4",
                        "e4bea37d474043819e8e6806d29227db",
                        "d90a916ebef74d5fb10293503875ab5b",
                        "84b2d6c695d34016a928890951c9ca9b",
                        "b542ccf03cbc499b96ee313cb3adae4f",
                        "0f2c998d0b234184863bddb8b9122118",
                        "da2a3fe6237c4cfe906ddc6d2a36ce19",
                        "bbe5f3fe02514586b410ac9faa578005",
                        "b720c6a982bd4d8096f4c52a16fc6d96",
                        "6e035e227909478aa20fcc11676de1b9",
                        "1a71b1aeade94eabb3f272334675c8df",
                        "47a1f8e8a3ca4b4f8d02eaf914cc6637",
                        "518db7139ee441bf8af21d04401d8741",
                        "af674fe7d13f4aabbbeb7658f80c8458",
                        "b62e028705874adaa4be663dac7b8b72",
                        "dcfb20e851ee4a8f864eeb6c5c3acb3e",
                        "a892b8650e5847adbaa8e6cb791bb1cb",
                        "bcb81724c47c438ea92634f2e5b670bb",
                        "b5f31fd939184d8e99985b5da4aaecb9",
                        "44482c18964246518d0c802841073135",
                        "3b2613d889dd4f66956966dd77d83830",
                        "8611132c83354a0c8c607bb56e9fbd6d",
                        "3c78e77064d848dab4b490a52597b69c",
                        "b7a922436977493eb205d566fe20868e",
                        "732a9874dbaa489cb606a0a55732dd44",
                        "a51ecd7da9994c158e5cb57cc9e8bcec",
                        "e961dc8428d640e5bf0eed7eb58c7180",
                        "f6778897228c4f8194ae6d18822833ab",
                        "58d331245f3e4baeab511605cb91152f",
                        "7138dff73df94aca9f67ded3cecff209",
                        "43b0a7829d8f423ebcd1ba0f21e6ff5f",
                        "adbdefb6ad374fa5af09e2f97c66ae66",
                        "a20744dbec88431982c479fcd2669424",
                        "96447345f3f246bf9c1e1bd24d89fbad",
                        "dc81d98864f34904834786952a5cc101",
                        "a3560ebdd8e8474faaf8a096946f9df1",
                        "5d66f854124f4ce88f65954792f0cf30",
                        "1449ca7139ec4f9ab461dddd12d4dc2e",
                        "dfc9f94de9f64d6fbf602ef7d7da4fcc",
                        "96f37912384842f1ab66b00fde4d0c84",
                        "a495e2cee1cf469e938a2826ca1c03a4",
                        "d56ade8dbc7045b6b27709d87b035e85",
                        "074e01fa468d42059eb502afb92f39e9",
                        "f46151d8e9d24a3daa2b8b7b1c6ce330",
                        "2c63f493e75a44d4bc8020584bbe58c5",
                        "b58fc4426c9e481cb4b7771a219e6345",
                        "1844da939b28441cb80f3cf5f076205e",
                        "6339b3e96ed14df8bb02df077db8b27f",
                        "509621b9db044779ad1be8f62cfe0439",
                        "98688e318bee4871a425c9e32caf6b10",
                        "d5a31bdf831e4be393473279081657b7",
                        "6b4b29470e804da190ae93b0f51bf06f",
                        "e5c32236300748ea9d291a309b74f707",
                        "5a1fca171e944931999023ba7ab6b892",
                        "5d47b228f246465c9b25b34d8f7e6eaf",
                        "275081849d1a497e870ceaa9cd183f62",
                        "46a8c56bc86b4c9496efb42dec88d5ac",
                        "e28447edea184fa58cdc51508b47ad32",
                        "236797c4c68444c09ce0a8221c7a5ce3",
                        "5410b22fafe544cc869ce8feb0ffd38e",
                        "8bc9254777ae45f491a11e8e89d7771d",
                        "512f6072357e4d29b272b68e5c0c7cef",
                        "b8958516ab0a4cbe88a8ef8eae088758",
                        "b464e0657c504cf4b3fd60cf1f0aa317",
                        "2b4f6969a5fc4fa8b7826454c21f42ed",
                        "8c3628f8ca82470496b9522abded99ab",
                        "45227ebcb478400cab90fadfcb12b333",
                        "5098c152797a44b59e773915c2bdacc1",
                        "d4c04abf758149b483d83924b7b50440",
                        "bcd0d29a37d841e192562efb80888d94",
                        "8475cadd97b64644a95063dd32855e2d",
                        "03244c7b73924d48b9cc1d3ecf59e53d",
                        "e40aff21cd874809bc28e99c9a50c2c5",
                        "718cf23c5fdb41a9bf08310605357db7",
                        "cb17d50084954402ac654d51616b9d79",
                        "bcce286ad2694fad882aac2b96cf2cd8",
                        "90ac8edc4cc146c3a07017286ed00d8b",
                        "d85c652065a44f42be6d598797e65751",
                        "abe7a9adb309429d9e9ac575f688fe4f",
                        "6c25d858148e4ba2ba8c143dc49a15e7",
                        "6fbcde57a28347bc91ce81d69cd755b3",
                        "dca7a4fb16a048749db7bc2959669720",
                        "8d64703d45c54ebbb4e3dac5b74810ef",
                        "a504d40f64494c159e7484cef5c3aaa6",
                        "95c463ca4cb94691bf3fd5f81ec96465",
                        "5bbcda45b4a8413ab1278ce6d15130d0",
                        "bc720cfe90c4456ea422abbf5cd6e5b2",
                        "92653f38ec4d4ac496378aa08c9d78ac",
                        "f733f8f5156740b7a34d6b1c3b37df74"
                    ]
                },
                "executionInfo": {
                    "status": "ok",
                    "timestamp": 1743568768837,
                    "user_tz": -420,
                    "elapsed": 2795119,
                    "user": {
                        "displayName": "Ekapol Chuangsuwanich",
                        "userId": "11414096022925535834"
                    }
                },
                "outputId": "96bb41d0-1b60-46ba-a059-763b719a245d"
            },
            "execution_count": null,
            "outputs": [
                {
                    "output_type": "stream",
                    "name": "stderr",
                    "text": [
                        "\u001b[34m\u001b[1mwandb\u001b[0m: Using wandb-core as the SDK backend.  Please refer to https://wandb.me/wandb-core for more information.\n",
                        "\u001b[34m\u001b[1mwandb\u001b[0m: Currently logged in as: \u001b[33mekapolc\u001b[0m to \u001b[32mhttps://api.wandb.ai\u001b[0m. Use \u001b[1m`wandb login --relogin`\u001b[0m to force relogin\n"
                    ]
                },
                {
                    "output_type": "display_data",
                    "data": {
                        "text/plain": [
                            "<IPython.core.display.HTML object>"
                        ],
                        "text/html": [
                            "Tracking run with wandb version 0.19.8"
                        ]
                    },
                    "metadata": {}
                },
                {
                    "output_type": "display_data",
                    "data": {
                        "text/plain": [
                            "<IPython.core.display.HTML object>"
                        ],
                        "text/html": [
                            "Run data is saved locally in <code>/content/wandb/run-20250402_035255-pbx2rknj</code>"
                        ]
                    },
                    "metadata": {}
                },
                {
                    "output_type": "display_data",
                    "data": {
                        "text/plain": [
                            "<IPython.core.display.HTML object>"
                        ],
                        "text/html": [
                            "Syncing run <strong><a href='https://wandb.ai/ekapolc/precipitation-nowcasting-2025/runs/pbx2rknj' target=\"_blank\">grateful-shadow-1</a></strong> to <a href='https://wandb.ai/ekapolc/precipitation-nowcasting-2025' target=\"_blank\">Weights & Biases</a> (<a href='https://wandb.me/developer-guide' target=\"_blank\">docs</a>)<br>"
                        ]
                    },
                    "metadata": {}
                },
                {
                    "output_type": "display_data",
                    "data": {
                        "text/plain": [
                            "<IPython.core.display.HTML object>"
                        ],
                        "text/html": [
                            " View project at <a href='https://wandb.ai/ekapolc/precipitation-nowcasting-2025' target=\"_blank\">https://wandb.ai/ekapolc/precipitation-nowcasting-2025</a>"
                        ]
                    },
                    "metadata": {}
                },
                {
                    "output_type": "display_data",
                    "data": {
                        "text/plain": [
                            "<IPython.core.display.HTML object>"
                        ],
                        "text/html": [
                            " View run at <a href='https://wandb.ai/ekapolc/precipitation-nowcasting-2025/runs/pbx2rknj' target=\"_blank\">https://wandb.ai/ekapolc/precipitation-nowcasting-2025/runs/pbx2rknj</a>"
                        ]
                    },
                    "metadata": {}
                },
                {
                    "output_type": "stream",
                    "name": "stdout",
                    "text": [
                        "Training epoch 1...\n",
                        "Current LR: 0.01\n"
                    ]
                },
                {
                    "output_type": "display_data",
                    "data": {
                        "text/plain": [
                            "  0%|          | 0/1121 [00:00<?, ?it/s]"
                        ],
                        "application/vnd.jupyter.widget-view+json": {
                            "version_major": 2,
                            "version_minor": 0,
                            "model_id": "1780368bba034631940cb46b085f8383"
                        }
                    },
                    "metadata": {}
                },
                {
                    "output_type": "stream",
                    "name": "stdout",
                    "text": [
                        "Epoch 1 train loss: 1.9342\n",
                        "Validating epoch 1\n"
                    ]
                },
                {
                    "output_type": "display_data",
                    "data": {
                        "text/plain": [
                            "  0%|          | 0/454 [00:00<?, ?it/s]"
                        ],
                        "application/vnd.jupyter.widget-view+json": {
                            "version_major": 2,
                            "version_minor": 0,
                            "model_id": "ebd75e48b1524724a7b35a25264158b5"
                        }
                    },
                    "metadata": {}
                },
                {
                    "output_type": "stream",
                    "name": "stdout",
                    "text": [
                        "Epoch 1 val loss: 1.6601\n",
                        "Saving new best model..\n",
                        "Training epoch 2...\n",
                        "Current LR: 0.01\n"
                    ]
                },
                {
                    "output_type": "display_data",
                    "data": {
                        "text/plain": [
                            "  0%|          | 0/1121 [00:00<?, ?it/s]"
                        ],
                        "application/vnd.jupyter.widget-view+json": {
                            "version_major": 2,
                            "version_minor": 0,
                            "model_id": "77540ae861fc4297841da9b3e0e6b14d"
                        }
                    },
                    "metadata": {}
                },
                {
                    "output_type": "stream",
                    "name": "stdout",
                    "text": [
                        "Epoch 2 train loss: 1.9202\n",
                        "Validating epoch 2\n"
                    ]
                },
                {
                    "output_type": "display_data",
                    "data": {
                        "text/plain": [
                            "  0%|          | 0/454 [00:00<?, ?it/s]"
                        ],
                        "application/vnd.jupyter.widget-view+json": {
                            "version_major": 2,
                            "version_minor": 0,
                            "model_id": "cd25b104546b4b0b8c40f43f74ef4c5d"
                        }
                    },
                    "metadata": {}
                },
                {
                    "output_type": "stream",
                    "name": "stdout",
                    "text": [
                        "Epoch 2 val loss: 1.6581\n",
                        "Saving new best model..\n",
                        "Training epoch 3...\n",
                        "Current LR: 0.01\n"
                    ]
                },
                {
                    "output_type": "display_data",
                    "data": {
                        "text/plain": [
                            "  0%|          | 0/1121 [00:00<?, ?it/s]"
                        ],
                        "application/vnd.jupyter.widget-view+json": {
                            "version_major": 2,
                            "version_minor": 0,
                            "model_id": "256b8ef3799645e3a043e49205947c0c"
                        }
                    },
                    "metadata": {}
                },
                {
                    "output_type": "stream",
                    "name": "stdout",
                    "text": [
                        "Epoch 3 train loss: 1.9200\n",
                        "Validating epoch 3\n"
                    ]
                },
                {
                    "output_type": "display_data",
                    "data": {
                        "text/plain": [
                            "  0%|          | 0/454 [00:00<?, ?it/s]"
                        ],
                        "application/vnd.jupyter.widget-view+json": {
                            "version_major": 2,
                            "version_minor": 0,
                            "model_id": "f2c1aec485d941d2945b90b68a51175c"
                        }
                    },
                    "metadata": {}
                },
                {
                    "output_type": "stream",
                    "name": "stdout",
                    "text": [
                        "Epoch 3 val loss: 1.6583\n",
                        "Training epoch 4...\n",
                        "Current LR: 0.01\n"
                    ]
                },
                {
                    "output_type": "display_data",
                    "data": {
                        "text/plain": [
                            "  0%|          | 0/1121 [00:00<?, ?it/s]"
                        ],
                        "application/vnd.jupyter.widget-view+json": {
                            "version_major": 2,
                            "version_minor": 0,
                            "model_id": "823ddb1549964a309d40be2f725628d3"
                        }
                    },
                    "metadata": {}
                },
                {
                    "output_type": "stream",
                    "name": "stdout",
                    "text": [
                        "Epoch 4 train loss: 1.9201\n",
                        "Validating epoch 4\n"
                    ]
                },
                {
                    "output_type": "display_data",
                    "data": {
                        "text/plain": [
                            "  0%|          | 0/454 [00:00<?, ?it/s]"
                        ],
                        "application/vnd.jupyter.widget-view+json": {
                            "version_major": 2,
                            "version_minor": 0,
                            "model_id": "45b3c447270046d3a308bfdea30d2119"
                        }
                    },
                    "metadata": {}
                },
                {
                    "output_type": "stream",
                    "name": "stdout",
                    "text": [
                        "Epoch 4 val loss: 1.6588\n",
                        "Training epoch 5...\n",
                        "Current LR: 0.01\n"
                    ]
                },
                {
                    "output_type": "display_data",
                    "data": {
                        "text/plain": [
                            "  0%|          | 0/1121 [00:00<?, ?it/s]"
                        ],
                        "application/vnd.jupyter.widget-view+json": {
                            "version_major": 2,
                            "version_minor": 0,
                            "model_id": "791de5a8352142d98d66c34a9f2bba83"
                        }
                    },
                    "metadata": {}
                },
                {
                    "output_type": "stream",
                    "name": "stdout",
                    "text": [
                        "Epoch 5 train loss: 1.9200\n",
                        "Validating epoch 5\n"
                    ]
                },
                {
                    "output_type": "display_data",
                    "data": {
                        "text/plain": [
                            "  0%|          | 0/454 [00:00<?, ?it/s]"
                        ],
                        "application/vnd.jupyter.widget-view+json": {
                            "version_major": 2,
                            "version_minor": 0,
                            "model_id": "3e05174052584bbf8699c6306c443da9"
                        }
                    },
                    "metadata": {}
                },
                {
                    "output_type": "stream",
                    "name": "stdout",
                    "text": [
                        "Epoch 5 val loss: 1.6568\n",
                        "Saving new best model..\n",
                        "Training epoch 6...\n",
                        "Current LR: 0.01\n"
                    ]
                },
                {
                    "output_type": "display_data",
                    "data": {
                        "text/plain": [
                            "  0%|          | 0/1121 [00:00<?, ?it/s]"
                        ],
                        "application/vnd.jupyter.widget-view+json": {
                            "version_major": 2,
                            "version_minor": 0,
                            "model_id": "4f92ee60a43f45cbb64aae950378fc35"
                        }
                    },
                    "metadata": {}
                },
                {
                    "output_type": "stream",
                    "name": "stdout",
                    "text": [
                        "Epoch 6 train loss: 1.9202\n",
                        "Validating epoch 6\n"
                    ]
                },
                {
                    "output_type": "display_data",
                    "data": {
                        "text/plain": [
                            "  0%|          | 0/454 [00:00<?, ?it/s]"
                        ],
                        "application/vnd.jupyter.widget-view+json": {
                            "version_major": 2,
                            "version_minor": 0,
                            "model_id": "a45e756b60bb48cf8ce638aab55571da"
                        }
                    },
                    "metadata": {}
                },
                {
                    "output_type": "stream",
                    "name": "stdout",
                    "text": [
                        "Epoch 6 val loss: 1.6607\n",
                        "Training epoch 7...\n",
                        "Current LR: 0.01\n"
                    ]
                },
                {
                    "output_type": "display_data",
                    "data": {
                        "text/plain": [
                            "  0%|          | 0/1121 [00:00<?, ?it/s]"
                        ],
                        "application/vnd.jupyter.widget-view+json": {
                            "version_major": 2,
                            "version_minor": 0,
                            "model_id": "e4bea37d474043819e8e6806d29227db"
                        }
                    },
                    "metadata": {}
                },
                {
                    "output_type": "stream",
                    "name": "stdout",
                    "text": [
                        "Epoch 7 train loss: 1.9228\n",
                        "Validating epoch 7\n"
                    ]
                },
                {
                    "output_type": "display_data",
                    "data": {
                        "text/plain": [
                            "  0%|          | 0/454 [00:00<?, ?it/s]"
                        ],
                        "application/vnd.jupyter.widget-view+json": {
                            "version_major": 2,
                            "version_minor": 0,
                            "model_id": "518db7139ee441bf8af21d04401d8741"
                        }
                    },
                    "metadata": {}
                },
                {
                    "output_type": "stream",
                    "name": "stdout",
                    "text": [
                        "Epoch 7 val loss: 1.6626\n",
                        "Training epoch 8...\n",
                        "Current LR: 0.01\n"
                    ]
                },
                {
                    "output_type": "display_data",
                    "data": {
                        "text/plain": [
                            "  0%|          | 0/1121 [00:00<?, ?it/s]"
                        ],
                        "application/vnd.jupyter.widget-view+json": {
                            "version_major": 2,
                            "version_minor": 0,
                            "model_id": "b7a922436977493eb205d566fe20868e"
                        }
                    },
                    "metadata": {}
                },
                {
                    "output_type": "stream",
                    "name": "stdout",
                    "text": [
                        "Epoch 8 train loss: 1.9234\n",
                        "Validating epoch 8\n"
                    ]
                },
                {
                    "output_type": "display_data",
                    "data": {
                        "text/plain": [
                            "  0%|          | 0/454 [00:00<?, ?it/s]"
                        ],
                        "application/vnd.jupyter.widget-view+json": {
                            "version_major": 2,
                            "version_minor": 0,
                            "model_id": "dc81d98864f34904834786952a5cc101"
                        }
                    },
                    "metadata": {}
                },
                {
                    "output_type": "stream",
                    "name": "stdout",
                    "text": [
                        "Epoch 8 val loss: 1.6613\n",
                        "Training epoch 9...\n",
                        "Current LR: 0.002\n"
                    ]
                },
                {
                    "output_type": "display_data",
                    "data": {
                        "text/plain": [
                            "  0%|          | 0/1121 [00:00<?, ?it/s]"
                        ],
                        "application/vnd.jupyter.widget-view+json": {
                            "version_major": 2,
                            "version_minor": 0,
                            "model_id": "b58fc4426c9e481cb4b7771a219e6345"
                        }
                    },
                    "metadata": {}
                },
                {
                    "output_type": "stream",
                    "name": "stdout",
                    "text": [
                        "Epoch 9 train loss: 1.9233\n",
                        "Validating epoch 9\n"
                    ]
                },
                {
                    "output_type": "display_data",
                    "data": {
                        "text/plain": [
                            "  0%|          | 0/454 [00:00<?, ?it/s]"
                        ],
                        "application/vnd.jupyter.widget-view+json": {
                            "version_major": 2,
                            "version_minor": 0,
                            "model_id": "46a8c56bc86b4c9496efb42dec88d5ac"
                        }
                    },
                    "metadata": {}
                },
                {
                    "output_type": "stream",
                    "name": "stdout",
                    "text": [
                        "Epoch 9 val loss: 1.6619\n",
                        "Training epoch 10...\n",
                        "Current LR: 0.002\n"
                    ]
                },
                {
                    "output_type": "display_data",
                    "data": {
                        "text/plain": [
                            "  0%|          | 0/1121 [00:00<?, ?it/s]"
                        ],
                        "application/vnd.jupyter.widget-view+json": {
                            "version_major": 2,
                            "version_minor": 0,
                            "model_id": "5098c152797a44b59e773915c2bdacc1"
                        }
                    },
                    "metadata": {}
                },
                {
                    "output_type": "stream",
                    "name": "stdout",
                    "text": [
                        "Epoch 10 train loss: 1.9240\n",
                        "Validating epoch 10\n"
                    ]
                },
                {
                    "output_type": "display_data",
                    "data": {
                        "text/plain": [
                            "  0%|          | 0/454 [00:00<?, ?it/s]"
                        ],
                        "application/vnd.jupyter.widget-view+json": {
                            "version_major": 2,
                            "version_minor": 0,
                            "model_id": "abe7a9adb309429d9e9ac575f688fe4f"
                        }
                    },
                    "metadata": {}
                },
                {
                    "output_type": "stream",
                    "name": "stdout",
                    "text": [
                        "Epoch 10 val loss: 1.6612\n"
                    ]
                },
                {
                    "output_type": "display_data",
                    "data": {
                        "text/plain": [
                            "<IPython.core.display.HTML object>"
                        ],
                        "text/html": []
                    },
                    "metadata": {}
                },
                {
                    "output_type": "display_data",
                    "data": {
                        "text/plain": [
                            "<IPython.core.display.HTML object>"
                        ],
                        "text/html": [
                            "<br>    <style><br>        .wandb-row {<br>            display: flex;<br>            flex-direction: row;<br>            flex-wrap: wrap;<br>            justify-content: flex-start;<br>            width: 100%;<br>        }<br>        .wandb-col {<br>            display: flex;<br>            flex-direction: column;<br>            flex-basis: 100%;<br>            flex: 1;<br>            padding: 10px;<br>        }<br>    </style><br><div class=\"wandb-row\"><div class=\"wandb-col\"><h3>Run history:</h3><br/><table class=\"wandb\"><tr><td>lr</td><td>████████▁▁</td></tr><tr><td>train_loss</td><td>█▁▁▁▁▁▂▃▃▃</td></tr><tr><td>val_loss</td><td>▅▂▃▃▁▆█▆▇▆</td></tr></table><br/></div><div class=\"wandb-col\"><h3>Run summary:</h3><br/><table class=\"wandb\"><tr><td>lr</td><td>0.002</td></tr><tr><td>train_loss</td><td>1.92398</td></tr><tr><td>val_loss</td><td>1.6612</td></tr></table><br/></div></div>"
                        ]
                    },
                    "metadata": {}
                },
                {
                    "output_type": "display_data",
                    "data": {
                        "text/plain": [
                            "<IPython.core.display.HTML object>"
                        ],
                        "text/html": [
                            " View run <strong style=\"color:#cdcd00\">grateful-shadow-1</strong> at: <a href='https://wandb.ai/ekapolc/precipitation-nowcasting-2025/runs/pbx2rknj' target=\"_blank\">https://wandb.ai/ekapolc/precipitation-nowcasting-2025/runs/pbx2rknj</a><br> View project at: <a href='https://wandb.ai/ekapolc/precipitation-nowcasting-2025' target=\"_blank\">https://wandb.ai/ekapolc/precipitation-nowcasting-2025</a><br>Synced 5 W&B file(s), 0 media file(s), 0 artifact file(s) and 0 other file(s)"
                        ]
                    },
                    "metadata": {}
                },
                {
                    "output_type": "display_data",
                    "data": {
                        "text/plain": [
                            "<IPython.core.display.HTML object>"
                        ],
                        "text/html": [
                            "Find logs at: <code>./wandb/run-20250402_035255-pbx2rknj/logs</code>"
                        ]
                    },
                    "metadata": {}
                },
                {
                    "output_type": "stream",
                    "name": "stdout",
                    "text": [
                        "Finished Training\n"
                    ]
                }
            ]
        },
        {
            "cell_type": "markdown",
            "metadata": {
                "id": "PeXGk-wHm9Nj"
            },
            "source": [
                "### TODO#5\n",
                "\n",
                "Plot loss and val_loss as a function of epochs."
            ]
        },
        {
            "cell_type": "code",
            "source": [],
            "metadata": {
                "id": "0iDWp6jqRRIT"
            },
            "execution_count": null,
            "outputs": []
        },
        {
            "cell_type": "markdown",
            "metadata": {
                "id": "jXmuk1a2nRSA"
            },
            "source": [
                "### TODO#6\n",
                "\n",
                "When does the model start to overfit?\n",
                "\n",
                "**Ans:**"
            ]
        },
        {
            "cell_type": "markdown",
            "metadata": {
                "id": "UXQgJYrTne0o"
            },
            "source": [
                "### TODO#7\n",
                "\n",
                "Plot the learning rate as a function of the epochs."
            ]
        },
        {
            "cell_type": "code",
            "metadata": {
                "id": "i5ZdGDjJnka7"
            },
            "source": [],
            "execution_count": null,
            "outputs": []
        },
        {
            "cell_type": "markdown",
            "metadata": {
                "id": "mKjTiHm4o4ba"
            },
            "source": [
                "### TODO#8\n",
                "\n",
                "What makes the learning rate change?\n",
                "(hint: try to understand the scheduler [ReduceLROnPlateau](https://pytorch.org/docs/stable/generated/torch.optim.lr_scheduler.ReduceLROnPlateau.html))\n",
                "\n",
                "\n",
                "**Ans:**"
            ]
        },
        {
            "cell_type": "markdown",
            "source": [
                "# Load Model\n",
                "\n",
                "Use the code snippet below to load the model you just trained"
            ],
            "metadata": {
                "id": "Mdf-mv_v7Nl8"
            }
        },
        {
            "cell_type": "code",
            "source": [
                "checkpoint = torch.load('model_ff.pth.tar')\n",
                "loaded_model = FeedForwardNN(hidden_size=config['hidden_size']) # Create model object\n",
                "loaded_model.load_state_dict(checkpoint['model']) # Load weights\n",
                "print(f\"Loaded epoch {checkpoint['epoch']} model\")"
            ],
            "metadata": {
                "id": "CipUyLZ07PKd"
            },
            "execution_count": null,
            "outputs": []
        },
        {
            "cell_type": "markdown",
            "source": [
                "# A more complex scheduling\n",
                "\n",
                "The scheduler can be very complicated and you can write your own heuristic for it.\n",
                "\n",
                "### TODO#9\n",
                "\n",
                "Implement a custom learning rate scheduler that behaves like the following graph.\n",
                "\n",
                "You might want to learn how to use [PyTorch's built-in learning rate schedulers](https://pytorch.org/docs/stable/optim.html#how-to-adjust-learning-rate) in order to build your own.\n",
                "\n",
                "Learning rate should be function of epoch.\n",
                "\n",
                "![](https://raw.githubusercontent.com/pjumruspun/ComProg2021-Workshop/main/graph.png)"
            ],
            "metadata": {
                "id": "JhLdhEr2ZLWL"
            }
        },
        {
            "cell_type": "code",
            "source": [
                "# Implement scheduler here\n",
                "class MyScheduler():\n",
                "    def __init__(self, optimizer: torch.optim.Optimizer):\n",
                "        pass\n",
                "\n",
                "    def step(self, epoch):\n",
                "        # Changes the learning rate here\n",
                "        pass"
            ],
            "metadata": {
                "id": "YkUFFRjsaMK_"
            },
            "execution_count": null,
            "outputs": []
        },
        {
            "cell_type": "code",
            "source": [
                "# Now train with your scheduler\n",
                "# my_scheduler = MyScheduler(...)\n"
            ],
            "metadata": {
                "id": "3XbxPkzyaSQ3"
            },
            "execution_count": null,
            "outputs": []
        },
        {
            "cell_type": "markdown",
            "metadata": {
                "id": "2JguJELuFKvL"
            },
            "source": [
                "# [Optional] Wandb #\n",
                "\n",
                "You should now have a project in wandb with the name `precipitation-nowcasting`, which you should see the latest run you just finished inside the project. If you look into the run, you should be able to see plots of learning rate, train loss, val loss in the `Charts` section. Below it should be `Gradients` and `Parameters` section."
            ]
        },
        {
            "cell_type": "markdown",
            "metadata": {
                "id": "3TUMxeJvFKvM"
            },
            "source": [
                "# Wandb Observation #\n",
                "\n",
                "### Optional TODO#1\n",
                "\n",
                "Write your own interpretation of the logs from this example. A simple sentence or two for each section is sufficient.\n",
                "\n",
                "**Your answer:**"
            ]
        },
        {
            "cell_type": "markdown",
            "source": [
                "# Evaluation"
            ],
            "metadata": {
                "id": "4opfOdo5jpXf"
            }
        },
        {
            "cell_type": "code",
            "metadata": {
                "id": "ymW77BubFKvC"
            },
            "source": [
                "################################################################################\n",
                "# TODO#10:                                                                     #\n",
                "# Write a function to evaluate your model. Your function must predicts         #\n",
                "# using the input model and return mean square error of the model.             #\n",
                "#                                                                              #\n",
                "# Hint: Read how to use PyTorch's MSE Loss                                     #\n",
                "# https://pytorch.org/docs/stable/generated/torch.nn.MSELoss.html              #\n",
                "################################################################################\n",
                "#                            WRITE YOUR CODE BELOW                             #\n",
                "################################################################################\n",
                "def evaluate(data_loader, model):\n",
                "    \"\"\"\n",
                "    Evaluate model on validation data given by data_loader\n",
                "    \"\"\"\n",
                "    # write code here\n",
                "\n",
                "    return mse"
            ],
            "execution_count": null,
            "outputs": []
        },
        {
            "cell_type": "code",
            "metadata": {
                "id": "w7t7ks7vFKvF"
            },
            "source": [
                "# We will use majority rule as a baseline.\n",
                "def majority_baseline(label_set):\n",
                "    unique, counts = np.unique(label_set, return_counts=True)\n",
                "    majority = unique[np.argmax(counts)]\n",
                "    baseline = 0\n",
                "    label_set = label_set.reshape(-1,1)\n",
                "    for r in label_set:\n",
                "        baseline += (majority - r) ** 2 / len(label_set)\n",
                "    return baseline"
            ],
            "execution_count": null,
            "outputs": []
        },
        {
            "cell_type": "code",
            "metadata": {
                "id": "v_QU7h4lFKvJ"
            },
            "source": [
                "print('baseline')\n",
                "print('train', majority_baseline(y_train))\n",
                "print('validate', majority_baseline(y_val))"
            ],
            "execution_count": null,
            "outputs": []
        },
        {
            "cell_type": "code",
            "source": [
                "print('FF-model')\n",
                "print('train', evaluate(train_loader, model_ff).item())\n",
                "print('validate', evaluate(val_loader, model_ff).item())"
            ],
            "metadata": {
                "id": "0dUc0Y9_wHrx"
            },
            "execution_count": null,
            "outputs": []
        },
        {
            "cell_type": "markdown",
            "metadata": {
                "id": "w0Ynr3VgFKvN"
            },
            "source": [
                "# Dropout #\n",
                "\n",
                "You might notice that the 3-layered feedforward does not use dropout at all. Now, try adding dropout (dropout rate of 20%) to the model, run, and report the result again.\n",
                "\n",
                "To access PyTorch's dropout, use `nn.Dropout`. Read more about PyTorch's built-in Dropout layer [here](https://pytorch.org/docs/stable/generated/torch.nn.Dropout.html)"
            ]
        },
        {
            "cell_type": "code",
            "metadata": {
                "id": "rbnMbqT7FKvO"
            },
            "source": [
                "################################################################################\n",
                "# TODO#11:                                                                     #\n",
                "# Write a feedforward model with dropout                                       #\n",
                "################################################################################\n",
                "#                            WRITE YOUR CODE BELOW                             #\n",
                "################################################################################\n"
            ],
            "execution_count": null,
            "outputs": []
        },
        {
            "cell_type": "code",
            "metadata": {
                "id": "TJHG3fvMFKvU"
            },
            "source": [
                "################################################################################\n",
                "# TODO#12:                                                                     #\n",
                "# Complete the code to train your dropout model                                #\n",
                "################################################################################\n",
                "print('start training ff dropout')\n",
                "################################################################################\n",
                "#                            WRITE YOUR CODE BELOW                             #\n",
                "################################################################################\n"
            ],
            "execution_count": null,
            "outputs": []
        },
        {
            "cell_type": "markdown",
            "metadata": {
                "id": "flM71KL-q9wI"
            },
            "source": [
                "### TODO#13\n",
                "\n",
                "Plot the losses and MSE of the training and validation as before. Evaluate the dropout model's performance"
            ]
        },
        {
            "cell_type": "code",
            "metadata": {
                "id": "sAIRXOxTEcox"
            },
            "source": [
                "# Plot here\n"
            ],
            "execution_count": null,
            "outputs": []
        },
        {
            "cell_type": "code",
            "metadata": {
                "id": "JYJcKIDEon2c"
            },
            "source": [
                "# Evaluate\n"
            ],
            "execution_count": null,
            "outputs": []
        },
        {
            "cell_type": "markdown",
            "source": [
                "# Convolution Neural Networks\n",
                "Now let's try to incorporate the grid sturcture to your model. Instead of passing in vectors, we are going to pass in the 5x5 grid into the model (5lat x 5long x 3channel). You are going to implement you own 2d-convolution neural networks with the following structure.\n",
                "```\n",
                "==========================================================================================\n",
                "Layer (type:depth-idx)                   Output Shape              Param #\n",
                "==========================================================================================\n",
                "Conv2DNN                                 --                        --\n",
                "├─Conv2d: 1-1                            [1024, 200, 3, 3]         5,600\n",
                "├─Linear: 1-2                            [1024, 200]               360,200\n",
                "├─Linear: 1-3                            [1024, 200]               40,200\n",
                "├─Linear: 1-4                            [1024, 1]                 201\n",
                "==========================================================================================\n",
                "Total params: 406,201\n",
                "Trainable params: 406,201\n",
                "Non-trainable params: 0\n",
                "```\n",
                "These parameters are simple guidelines to save your time.    \n",
                "You can play with them in the final section which you can choose any normalization methods, activation function, as well as any hyperparameter the way you want.         \n",
                "\n",
                "Hint: You should read PyTorch documentation to see the list of available layers and options you can use.                         "
            ],
            "metadata": {
                "id": "on7dr9JQjcKs"
            }
        },
        {
            "cell_type": "code",
            "source": [
                "################################################################################\n",
                "# TODO#15:                                                                     #\n",
                "# Write a PyTorch convolutional neural network model.                          #\n",
                "# You might want to use the layer torch.flatten somewhere                      #\n",
                "################################################################################\n",
                "#                            WRITE YOUR CODE BELOW                             #\n",
                "################################################################################\n"
            ],
            "metadata": {
                "id": "vO3HlCHnjiSW"
            },
            "execution_count": null,
            "outputs": []
        },
        {
            "cell_type": "code",
            "source": [
                "################################################################################\n",
                "# TODO#16:                                                                     #\n",
                "# Complete the code to train your cnn model                                    #\n",
                "################################################################################\n",
                "print('start training conv2d')\n",
                "################################################################################\n",
                "#                            WRITE YOUR CODE BELOW                             #\n",
                "################################################################################\n"
            ],
            "metadata": {
                "id": "S44V_MeqjjR3"
            },
            "execution_count": null,
            "outputs": []
        },
        {
            "cell_type": "code",
            "source": [
                "# Plot losses\n"
            ],
            "metadata": {
                "id": "W9LNjVBDjnrS"
            },
            "execution_count": null,
            "outputs": []
        },
        {
            "cell_type": "code",
            "source": [
                "# Evaluate\n"
            ],
            "metadata": {
                "id": "ocPD06LPjqWV"
            },
            "execution_count": null,
            "outputs": []
        },
        {
            "cell_type": "markdown",
            "metadata": {
                "id": "gkoGHlI8FKv5"
            },
            "source": [
                "# Final Section\n",
                "# PyTorch playground\n",
                "\n",
                "Now, train the best model you can do for this task. You can use any model structure and function available.    \n",
                "Remember that trainig time increases with the complexity of the model. You might find printing computation graphs helpful in debugging complicated models.    \n",
                "Your model should be better than your models in the previous sections\n",
                "\n",
                "Some ideas:\n",
                "\n",
                "- Tune the hyperparameters\n",
                "- Change the model architecture\n",
                "- Use or ignore the time sequence information\n",
                "\n",
                "You should tune your model on training and validation set.    \n",
                "**The test set should be used only for the last evaluation.**"
            ]
        },
        {
            "cell_type": "code",
            "source": [
                "# Prep data as you see fit\n"
            ],
            "metadata": {
                "id": "NH741odv8zOq"
            },
            "execution_count": null,
            "outputs": []
        },
        {
            "cell_type": "code",
            "metadata": {
                "id": "2hibvTeKFKv5"
            },
            "source": [
                "################################################################################\n",
                "# TODO#17                                                                      #\n",
                "# Write a function that returns your best PyTorch model. You can use anything  #\n",
                "# you want. The goal here is to create the best model you can think of.        #\n",
                "#                                                                              #\n",
                "# Hint: You should read PyTorch documentation to see the list of available     #\n",
                "# layers and options you can use.                                              #\n",
                "################################################################################\n",
                "#                            WRITE YOUR CODE BELOW                             #\n",
                "################################################################################\n"
            ],
            "execution_count": null,
            "outputs": []
        },
        {
            "cell_type": "code",
            "metadata": {
                "id": "yfNpynXlFKv8"
            },
            "source": [
                "################################################################################\n",
                "# TODO#18                                                                      #\n",
                "# Complete the code to train your best model                                   #\n",
                "################################################################################\n",
                "print('start training the best model')\n",
                "################################################################################\n",
                "#                            WRITE YOUR CODE BELOW                             #\n",
                "################################################################################\n"
            ],
            "execution_count": null,
            "outputs": []
        },
        {
            "cell_type": "code",
            "source": [
                "# Evaluate best model on validation and test set\n"
            ],
            "metadata": {
                "id": "Ag7EC7E9MuZH"
            },
            "execution_count": null,
            "outputs": []
        },
        {
            "cell_type": "code",
            "metadata": {
                "id": "tOVQ2zHkFKv-"
            },
            "source": [
                "# Also evaluate your fully-connected and dropout model on the test set.\n"
            ],
            "execution_count": null,
            "outputs": []
        },
        {
            "cell_type": "markdown",
            "metadata": {
                "id": "yHyzJulTFKwA"
            },
            "source": [
                "To get full credit for this part, your best model should be better than the previous models on the **test set**.\n",
                "\n",
                "### TODO#19\n",
                "\n",
                "Explain what helped and what did not help here\n",
                "\n",
                "**Ans:**"
            ]
        },
        {
            "cell_type": "markdown",
            "source": [
                "# [Optional] Augmentation using data loader\n",
                "\n",
                "### Optional TODO#2\n",
                "\n",
                "Implement a new dataloader on your best model that will perform data augmentation. Try adding noise of zero mean and variance of $10e^{-2}$.\n",
                "\n",
                "Then, train your model."
            ],
            "metadata": {
                "id": "UqJCOYoPaZcc"
            }
        },
        {
            "cell_type": "code",
            "source": [
                "# Write Dataset/DataLoader with noise here\n"
            ],
            "metadata": {
                "id": "IwEB-0wMaqhr"
            },
            "execution_count": null,
            "outputs": []
        },
        {
            "cell_type": "code",
            "source": [
                "print('start training the best model with noise')\n",
                "################################################################################\n",
                "#                            WRITE YOUR CODE BELOW                             #\n",
                "################################################################################\n"
            ],
            "metadata": {
                "id": "3l44W5glBdae"
            },
            "execution_count": null,
            "outputs": []
        },
        {
            "cell_type": "code",
            "source": [
                "# Evaluate the best model trained with noise on validation and test set\n"
            ],
            "metadata": {
                "id": "sxBScR6KBoCs"
            },
            "execution_count": null,
            "outputs": []
        }
    ]
}